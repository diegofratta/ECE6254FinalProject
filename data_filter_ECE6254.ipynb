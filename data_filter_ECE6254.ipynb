{
  "cells": [
    {
      "cell_type": "code",
      "execution_count": 1,
      "metadata": {
        "id": "FaSklEov6D6I"
      },
      "outputs": [],
      "source": [
        "import numpy as np\n",
        "import pandas as pd\n",
        "from PIL import Image\n",
        "import requests\n",
        "import re\n",
        "import matplotlib.pyplot as plt\n",
        "from IPython.display import clear_output\n",
        "from pathlib import Path\n",
        "import glob"
      ]
    },
    {
      "cell_type": "code",
      "execution_count": null,
      "metadata": {
        "id": "46_22ukL6I5K"
      },
      "outputs": [],
      "source": [
        "mm,dd,yyyy,close,volume,open,high,low = (np.loadtxt(\"./TeslaData5Years_mm_dd_yyyy.txt\", \n",
        "                                                    unpack = True, skiprows=1, delimiter=\",\"))"
      ]
    },
    {
      "cell_type": "code",
      "execution_count": null,
      "metadata": {
        "id": "bcGgDyIw66ej"
      },
      "outputs": [],
      "source": [
        "#\n",
        "aux = close-open\n",
        "aux[aux>0] = 1\n",
        "aux[aux<=0] = 0\n",
        "#More stuff to be added."
      ]
    },
    {
      "cell_type": "markdown",
      "metadata": {
        "id": "jRslFca64R6P"
      },
      "source": [
        "##Manual sentimental analysis of the tweets"
      ]
    },
    {
      "cell_type": "code",
      "execution_count": 2,
      "metadata": {
        "id": "aq8xTwHGjYZ6"
      },
      "outputs": [],
      "source": [
        "filepath = \"./Tsla$TweetsNov.csv\"\n",
        "tweets_db = pd.read_csv(filepath, dtype=str, sep=',').fillna(0)\n",
        "df = pd.DataFrame()\n",
        "df['sentimental_value'] = np.zeros(len(tweets_db['id'].values))\n",
        "tweets_db = pd.concat([tweets_db, df], axis=1)"
      ]
    },
    {
      "cell_type": "code",
      "execution_count": 7,
      "metadata": {
        "id": "eSxJ7fpnpr2K"
      },
      "outputs": [],
      "source": [
        "def show_tweet(tweet, photos):\n",
        "  \"\"\"\n",
        "  inputs: \n",
        "  photos = output of get_urls\n",
        "  tweet = tweet_db['tweet'].values[i]\n",
        "  \"\"\"\n",
        "  print(\"Tweet:\")\n",
        "  print(tweet)\n",
        "  for link in photos:\n",
        "    if (len(link)>4):\n",
        "      response = requests.get(link, stream=True)\n",
        "      img = Image.open(response.raw)\n",
        "      plt.imshow(img)\n",
        "      plt.show()\n",
        "    else:\n",
        "      pass\n",
        "  return None\n",
        "\n",
        "def sentimental_evaluation():\n",
        "  '''\n",
        "  0 = bad\n",
        "  1 = neutral\n",
        "  2 = good\n",
        "  '''\n",
        "  print(\"Insert the sentimental value for the above tweet\")\n",
        "  print(\"0 = bad, 1 = neutral, 2 = good\")\n",
        "  while True:\n",
        "    try:\n",
        "      sv = int(input(\"-->\"))\n",
        "      if sv > 2 or sv < 0:\n",
        "        raise ValueError\n",
        "    except ValueError:\n",
        "      print(\"Input is not 0, 1, 2\")\n",
        "      continue\n",
        "    break\n",
        "  print(\"***********--------------------------------***********\")\n",
        "  return sv\n",
        "\n",
        "def get_urls(url):\n",
        "  \"\"\"Given the urls as a list of strings, will return an array with \n",
        "  the urls and some other characters that we will filter later\n",
        "  input:\n",
        "  url: tweets_db['photos'].values[i]\n",
        "  \"\"\"\n",
        "  inputstring = url\n",
        "  inputstring.replace('[', '')\n",
        "  inputstring.replace(']', '')\n",
        "  url_format = re.findall(\"([^']*)\", inputstring)\n",
        "\n",
        "  return url_format"
      ]
    },
    {
      "cell_type": "code",
      "execution_count": 12,
      "metadata": {
        "id": "bPor4ZghtVfp"
      },
      "outputs": [
        {
          "name": "stdout",
          "output_type": "stream",
          "text": [
            "Tweet:\n",
            "Tesla is making over 3,000 EVs a day now.  #tesla $tsla\n",
            "Insert the sentimental value for the above tweet\n",
            "0 = bad, 1 = neutral, 2 = good\n"
          ]
        },
        {
          "ename": "KeyboardInterrupt",
          "evalue": "Interrupted by user",
          "output_type": "error",
          "traceback": [
            "\u001b[0;31m---------------------------------------------------------------------------\u001b[0m",
            "\u001b[0;31mKeyboardInterrupt\u001b[0m                         Traceback (most recent call last)",
            "\u001b[0;32m<ipython-input-12-6ef9b3795139>\u001b[0m in \u001b[0;36m<module>\u001b[0;34m\u001b[0m\n\u001b[1;32m     49\u001b[0m   \u001b[0murls\u001b[0m \u001b[0;34m=\u001b[0m \u001b[0mget_urls\u001b[0m\u001b[0;34m(\u001b[0m\u001b[0mtweets_db\u001b[0m\u001b[0;34m[\u001b[0m\u001b[0;34m'photos'\u001b[0m\u001b[0;34m]\u001b[0m\u001b[0;34m.\u001b[0m\u001b[0mvalues\u001b[0m\u001b[0;34m[\u001b[0m\u001b[0mi\u001b[0m\u001b[0;34m]\u001b[0m\u001b[0;34m)\u001b[0m\u001b[0;34m\u001b[0m\u001b[0;34m\u001b[0m\u001b[0m\n\u001b[1;32m     50\u001b[0m   \u001b[0mshow_tweet\u001b[0m\u001b[0;34m(\u001b[0m\u001b[0mtweets_db\u001b[0m\u001b[0;34m[\u001b[0m\u001b[0;34m'tweet'\u001b[0m\u001b[0;34m]\u001b[0m\u001b[0;34m.\u001b[0m\u001b[0mvalues\u001b[0m\u001b[0;34m[\u001b[0m\u001b[0mi\u001b[0m\u001b[0;34m]\u001b[0m\u001b[0;34m,\u001b[0m \u001b[0murls\u001b[0m\u001b[0;34m)\u001b[0m\u001b[0;34m\u001b[0m\u001b[0;34m\u001b[0m\u001b[0m\n\u001b[0;32m---> 51\u001b[0;31m   \u001b[0msv\u001b[0m \u001b[0;34m=\u001b[0m \u001b[0msentimental_evaluation\u001b[0m\u001b[0;34m(\u001b[0m\u001b[0;34m)\u001b[0m\u001b[0;34m\u001b[0m\u001b[0;34m\u001b[0m\u001b[0m\n\u001b[0m\u001b[1;32m     52\u001b[0m   \u001b[0mtweets_db\u001b[0m\u001b[0;34m[\u001b[0m\u001b[0;34m'sentimental_value'\u001b[0m\u001b[0;34m]\u001b[0m\u001b[0;34m.\u001b[0m\u001b[0mvalues\u001b[0m\u001b[0;34m[\u001b[0m\u001b[0mi\u001b[0m\u001b[0;34m]\u001b[0m \u001b[0;34m=\u001b[0m \u001b[0msv\u001b[0m\u001b[0;34m\u001b[0m\u001b[0;34m\u001b[0m\u001b[0m\n\u001b[1;32m     53\u001b[0m   \u001b[0mcounter\u001b[0m \u001b[0;34m+=\u001b[0m \u001b[0;36m1\u001b[0m\u001b[0;34m\u001b[0m\u001b[0;34m\u001b[0m\u001b[0m\n",
            "\u001b[0;32m<ipython-input-7-920f81a6d3b9>\u001b[0m in \u001b[0;36msentimental_evaluation\u001b[0;34m()\u001b[0m\n\u001b[1;32m     27\u001b[0m   \u001b[0;32mwhile\u001b[0m \u001b[0;32mTrue\u001b[0m\u001b[0;34m:\u001b[0m\u001b[0;34m\u001b[0m\u001b[0;34m\u001b[0m\u001b[0m\n\u001b[1;32m     28\u001b[0m     \u001b[0;32mtry\u001b[0m\u001b[0;34m:\u001b[0m\u001b[0;34m\u001b[0m\u001b[0;34m\u001b[0m\u001b[0m\n\u001b[0;32m---> 29\u001b[0;31m       \u001b[0msv\u001b[0m \u001b[0;34m=\u001b[0m \u001b[0mint\u001b[0m\u001b[0;34m(\u001b[0m\u001b[0minput\u001b[0m\u001b[0;34m(\u001b[0m\u001b[0;34m\"-->\"\u001b[0m\u001b[0;34m)\u001b[0m\u001b[0;34m)\u001b[0m\u001b[0;34m\u001b[0m\u001b[0;34m\u001b[0m\u001b[0m\n\u001b[0m\u001b[1;32m     30\u001b[0m       \u001b[0;32mif\u001b[0m \u001b[0msv\u001b[0m \u001b[0;34m>\u001b[0m \u001b[0;36m2\u001b[0m \u001b[0;32mor\u001b[0m \u001b[0msv\u001b[0m \u001b[0;34m<\u001b[0m \u001b[0;36m0\u001b[0m\u001b[0;34m:\u001b[0m\u001b[0;34m\u001b[0m\u001b[0;34m\u001b[0m\u001b[0m\n\u001b[1;32m     31\u001b[0m         \u001b[0;32mraise\u001b[0m \u001b[0mValueError\u001b[0m\u001b[0;34m\u001b[0m\u001b[0;34m\u001b[0m\u001b[0m\n",
            "\u001b[0;32m~/opt/anaconda3/lib/python3.8/site-packages/ipykernel/kernelbase.py\u001b[0m in \u001b[0;36mraw_input\u001b[0;34m(self, prompt)\u001b[0m\n\u001b[1;32m    858\u001b[0m                 \u001b[0;34m\"raw_input was called, but this frontend does not support input requests.\"\u001b[0m\u001b[0;34m\u001b[0m\u001b[0;34m\u001b[0m\u001b[0m\n\u001b[1;32m    859\u001b[0m             )\n\u001b[0;32m--> 860\u001b[0;31m         return self._input_request(str(prompt),\n\u001b[0m\u001b[1;32m    861\u001b[0m             \u001b[0mself\u001b[0m\u001b[0;34m.\u001b[0m\u001b[0m_parent_ident\u001b[0m\u001b[0;34m,\u001b[0m\u001b[0;34m\u001b[0m\u001b[0;34m\u001b[0m\u001b[0m\n\u001b[1;32m    862\u001b[0m             \u001b[0mself\u001b[0m\u001b[0;34m.\u001b[0m\u001b[0m_parent_header\u001b[0m\u001b[0;34m,\u001b[0m\u001b[0;34m\u001b[0m\u001b[0;34m\u001b[0m\u001b[0m\n",
            "\u001b[0;32m~/opt/anaconda3/lib/python3.8/site-packages/ipykernel/kernelbase.py\u001b[0m in \u001b[0;36m_input_request\u001b[0;34m(self, prompt, ident, parent, password)\u001b[0m\n\u001b[1;32m    902\u001b[0m             \u001b[0;32mexcept\u001b[0m \u001b[0mKeyboardInterrupt\u001b[0m\u001b[0;34m:\u001b[0m\u001b[0;34m\u001b[0m\u001b[0;34m\u001b[0m\u001b[0m\n\u001b[1;32m    903\u001b[0m                 \u001b[0;31m# re-raise KeyboardInterrupt, to truncate traceback\u001b[0m\u001b[0;34m\u001b[0m\u001b[0;34m\u001b[0m\u001b[0;34m\u001b[0m\u001b[0m\n\u001b[0;32m--> 904\u001b[0;31m                 \u001b[0;32mraise\u001b[0m \u001b[0mKeyboardInterrupt\u001b[0m\u001b[0;34m(\u001b[0m\u001b[0;34m\"Interrupted by user\"\u001b[0m\u001b[0;34m)\u001b[0m \u001b[0;32mfrom\u001b[0m \u001b[0;32mNone\u001b[0m\u001b[0;34m\u001b[0m\u001b[0;34m\u001b[0m\u001b[0m\n\u001b[0m\u001b[1;32m    905\u001b[0m             \u001b[0;32mexcept\u001b[0m \u001b[0mException\u001b[0m \u001b[0;32mas\u001b[0m \u001b[0me\u001b[0m\u001b[0;34m:\u001b[0m\u001b[0;34m\u001b[0m\u001b[0;34m\u001b[0m\u001b[0m\n\u001b[1;32m    906\u001b[0m                 \u001b[0mself\u001b[0m\u001b[0;34m.\u001b[0m\u001b[0mlog\u001b[0m\u001b[0;34m.\u001b[0m\u001b[0mwarning\u001b[0m\u001b[0;34m(\u001b[0m\u001b[0;34m\"Invalid Message:\"\u001b[0m\u001b[0;34m,\u001b[0m \u001b[0mexc_info\u001b[0m\u001b[0;34m=\u001b[0m\u001b[0;32mTrue\u001b[0m\u001b[0;34m)\u001b[0m\u001b[0;34m\u001b[0m\u001b[0;34m\u001b[0m\u001b[0m\n",
            "\u001b[0;31mKeyboardInterrupt\u001b[0m: Interrupted by user"
          ]
        }
      ],
      "source": [
        "ini_fin = [106,346] #Range of tweets to analyze\n",
        "counter = 0\n",
        "for i in np.arange(ini_fin[0], ini_fin[1]):\n",
        "  if counter == 3:\n",
        "    plt.close('all')\n",
        "    clear_output(wait=True)\n",
        "    counter = 0\n",
        "  elif i%5 == 0: #Change the number to a number that works for you.\n",
        "    aux = ini_fin[1] - ini_fin[0] - counter\n",
        "    print(str(aux)+\" tweets remains to finish.\")\n",
        "    uptd_db_path = (\"./updated_Tsla$TweetsNov\"+\n",
        "                    str(ini_fin[0])+\"_\"+str(ini_fin[1])+\".csv\") \n",
        "    #take note of the input range that you're doing if you change the name.\n",
        "    files_present = glob.glob(uptd_db_path)\n",
        "    # if no matching files, write to csv, if there are matching files, print statement\n",
        "    if not files_present:\n",
        "      tweets_db.to_csv(uptd_db_path)\n",
        "      print('''\n",
        "      \\\\\\\\\\\\\\\\\\\\\\\\---------------------------\\\\\\\\\\\\\\\\\\\\\n",
        "      \\\\\\\\\\\\\\\\\\\\\\\\---------------------------\\\\\\\\\\\\\\\\\\\\\n",
        "      \\\\\\\\\\\\\\\\\\\\\\\\---------------------------\\\\\\\\\\\\\\\\\\\\\n",
        "\n",
        "\n",
        "      Saving file...\n",
        "\n",
        "\n",
        "      \\\\\\\\\\\\\\\\\\\\\\\\---------------------------\\\\\\\\\\\\\\\\\\\\\n",
        "      \\\\\\\\\\\\\\\\\\\\\\\\---------------------------\\\\\\\\\\\\\\\\\\\\\n",
        "      \\\\\\\\\\\\\\\\\\\\\\\\---------------------------\\\\\\\\\\\\\\\\\\\\\n",
        "      ''')\n",
        "    else:\n",
        "      print('''\n",
        "      \\\\\\\\\\\\\\\\\\\\\\\\---------------------------\\\\\\\\\\\\\\\\\\\\\n",
        "      \\\\\\\\\\\\\\\\\\\\\\\\---------------------------\\\\\\\\\\\\\\\\\\\\\n",
        "      \\\\\\\\\\\\\\\\\\\\\\\\---------------------------\\\\\\\\\\\\\\\\\\\\\n",
        "\n",
        "\n",
        "      WARNING: You're trying to rewrite the database!\n",
        "      Choose another name.\n",
        "\n",
        "\n",
        "      \\\\\\\\\\\\\\\\\\\\\\\\---------------------------\\\\\\\\\\\\\\\\\\\\\n",
        "      \\\\\\\\\\\\\\\\\\\\\\\\---------------------------\\\\\\\\\\\\\\\\\\\\\n",
        "      \\\\\\\\\\\\\\\\\\\\\\\\---------------------------\\\\\\\\\\\\\\\\\\\\\n",
        "      ''')\n",
        "    \n",
        "    \n",
        "    df.to_csv(index=False)\n",
        "  urls = get_urls(tweets_db['photos'].values[i])\n",
        "  show_tweet(tweets_db['tweet'].values[i], urls)\n",
        "  sv = sentimental_evaluation()\n",
        "  tweets_db['sentimental_value'].values[i] = sv\n",
        "  counter += 1\n"
      ]
    },
    {
      "cell_type": "code",
      "execution_count": 13,
      "metadata": {},
      "outputs": [],
      "source": [
        "tweets_db.to_csv(uptd_db_path)"
      ]
    },
    {
      "cell_type": "code",
      "execution_count": 23,
      "metadata": {
        "id": "Th9al5dQ6C2M"
      },
      "outputs": [],
      "source": [
        "0\n",
        "tweets_db = pd.read_csv(filepath, dtype=str, sep=',').fillna(0) #This should point to the \n",
        "#new database with the labels... CHANGE\n",
        "pos = 0\n",
        "neut = 0\n",
        "neg = 0\n",
        "ph_t_n = \"./database/train/neg/\" #Path to train and negative\n",
        "ph_t_p = \"./database/train/pos/\" #Path to train and positive\n",
        "ph_t_nn = \"./database/train/neut/\" #Path to train and neutral\n",
        "ph_e_n = \"./database/test/neg/\" #Path to test and negative\n",
        "ph_e_p = \"./database/test/pos/\" #Path to test and positive\n",
        "ph_e_nn = \"./database/test/neut/\" #Path to test and neutral\n",
        "\n",
        "Path(ph_t_n).mkdir(parents=True, exist_ok=True)\n",
        "Path(ph_t_p).mkdir(parents=True, exist_ok=True)\n",
        "Path(ph_t_nn).mkdir(parents=True, exist_ok=True)\n",
        "Path(ph_e_n).mkdir(parents=True, exist_ok=True)\n",
        "Path(ph_e_p).mkdir(parents=True, exist_ok=True)\n",
        "Path(ph_e_nn).mkdir(parents=True, exist_ok=True)\n",
        "\n",
        "for i in range(ini_fin[0], ini_fin[1]+1):\n",
        "  aux = \"train\" #We can change this afterwards, depending on the how do we want\n",
        "  #to split the data... \n",
        "  tweet = tweets_db['tweet'].values[i]\n",
        "  sv = tweets_db['sentimental_value'].values[i]\n",
        "\n",
        "  if aux == \"train\":\n",
        "    if sv == 0:\n",
        "      with open(ph_t_n+str(neg)+\"_\"+str(i)+\".txt\", \"w\") as text_file:\n",
        "        text_file.write(tweet)\n",
        "      neg +=1\n",
        "      pass\n",
        "    elif sv == 1:\n",
        "      with open(ph_t_nn+str(neut)+\"_\"+str(i)+\".txt\", \"w\") as text_file:\n",
        "        text_file.write(tweet)    \n",
        "      neut += 1\n",
        "    elif sv == 2:\n",
        "      with open(ph_t_p+str(pos)+\"_\"+str(i)+\".txt\", \"w\") as text_file:\n",
        "        text_file.write(tweet)\n",
        "      pos += 1\n",
        "    else:\n",
        "      print(\"sv = \"+str(sv))\n",
        "      print(\"tweet = \"+str(tweet))\n",
        "      print(\"i = \"+str(i))\n",
        "      print(\"Sentimental value out of range... skipping\")\n",
        "\n",
        "  elif aux == \"test\":\n",
        "    if sv == 0:\n",
        "      with open(ph_e_n+str(neg)+\"_\"+str(i)+\".txt\", \"w\") as text_file:\n",
        "        text_file.write(tweet)\n",
        "      neg +=1\n",
        "      pass\n",
        "    elif sv == 1:\n",
        "      with open(ph_e_nn+str(neut)+\"_\"+str(i)+\".txt\", \"w\") as text_file:\n",
        "        text_file.write(tweet)    \n",
        "      neut += 1\n",
        "    elif sv == 2:\n",
        "      with open(ph_e_p+str(pos)+\"_\"+str(i)+\".txt\", \"w\") as text_file:\n",
        "        text_file.write(tweet)\n",
        "      pos += 1\n",
        "    else:\n",
        "      print(\"sv = \"+str(sv))\n",
        "      print(\"tweet = \"+str(tweet))\n",
        "      print(\"i = \"+str(i))\n",
        "      print(\"Sentimental value out of range... skipping\")\n",
        "  \n",
        "  else: \n",
        "    print(str(aux)+\" not a keyword, should be test or train instead\")"
      ]
    },
    {
      "cell_type": "code",
      "execution_count": null,
      "metadata": {
        "id": "wJTFYoHB2nR7"
      },
      "outputs": [],
      "source": [
        "!tar -czvf tweet_database.tar.gz ./database/\n",
        "from google.colab import files\n",
        "files.download(\"./tweet_database.tar.gz\")"
      ]
    },
    {
      "cell_type": "code",
      "execution_count": null,
      "metadata": {
        "id": "nCSaWRBQ4Nu5"
      },
      "outputs": [],
      "source": []
    }
  ],
  "metadata": {
    "colab": {
      "collapsed_sections": [],
      "name": "data_filter_ECE6254.ipynb",
      "provenance": []
    },
    "kernelspec": {
      "display_name": "Python 3",
      "name": "python3"
    },
    "language_info": {
      "codemirror_mode": {
        "name": "ipython",
        "version": 3
      },
      "file_extension": ".py",
      "mimetype": "text/x-python",
      "name": "python",
      "nbconvert_exporter": "python",
      "pygments_lexer": "ipython3",
      "version": "3.8.8"
    }
  },
  "nbformat": 4,
  "nbformat_minor": 0
}
